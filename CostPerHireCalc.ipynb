{
 "cells": [
  {
   "cell_type": "code",
   "execution_count": null,
   "metadata": {},
   "outputs": [],
   "source": [
    "def calculate_cost_per_hire():\n",
    "    # Input costs for each category\n",
    "    advertising = float(input(\"Enter advertising costs: $\"))\n",
    "    agency_fees = float(input(\"Enter agency fees: $\"))\n",
    "    interviewing = float(input(\"Enter interviewing costs: $\"))\n",
    "    background_checks = float(input(\"Enter background checks costs: $\"))\n",
    "    software = float(input(\"Enter software costs: $\"))\n",
    "    onboarding = float(input(\"Enter onboarding costs: $\"))\n",
    "    drug_testing = float(input(\"Enter drug testing costs: $\"))\n",
    "    travel_expenses = float(input(\"Enter travel expenses: $\"))\n",
    "    \n",
    "    # Input budget for cost per hire\n",
    "    budget = float(input(\"Enter your budget for cost per hire: $\"))\n",
    "    \n",
    "    # Calculate total cost\n",
    "    total_cost = (\n",
    "        advertising + agency_fees + interviewing + background_checks + \n",
    "        software + onboarding + drug_testing + travel_expenses\n",
    "    )\n",
    "    \n",
    "    # Input number of hires\n",
    "    number_of_hires = int(input(\"Enter the number of hires: \"))\n",
    "    \n",
    "    # Calculate cost per hire\n",
    "    cost_per_hire = total_cost / number_of_hires\n",
    "    \n",
    "    # Check if cost per hire is within budget\n",
    "    if cost_per_hire <= budget:\n",
    "        within_budget = True\n",
    "    else:\n",
    "        within_budget = False\n",
    "    \n",
    "    # Return calculated values\n",
    "    return total_cost, cost_per_hire, within_budget\n",
    "\n",
    "# Call the function to calculate values\n",
    "total_cost, cost_per_hire, within_budget = calculate_cost_per_hire()\n",
    "\n",
    "# Display results\n",
    "print(\"\\nTotal Cost: ${:.2f}\".format(total_cost))\n",
    "print(\"Cost per Hire: ${:.2f}\".format(cost_per_hire))\n",
    "\n",
    "# Check if cost per hire is within budget and display the appropriate message\n",
    "if within_budget:\n",
    "    print(\"Cost per hire is within budget.\")\n",
    "else:\n",
    "    print(\"Cost per hire exceeds budget.\")\n"
   ]
  }
 ],
 "metadata": {
  "kernelspec": {
   "display_name": "Python 3",
   "language": "python",
   "name": "python3"
  },
  "language_info": {
   "codemirror_mode": {
    "name": "ipython",
    "version": 3
   },
   "file_extension": ".py",
   "mimetype": "text/x-python",
   "name": "python",
   "nbconvert_exporter": "python",
   "pygments_lexer": "ipython3",
   "version": "3.11.0"
  },
  "orig_nbformat": 4
 },
 "nbformat": 4,
 "nbformat_minor": 2
}
